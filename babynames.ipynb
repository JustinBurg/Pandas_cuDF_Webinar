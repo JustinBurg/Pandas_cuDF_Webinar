{
 "cells": [
  {
   "cell_type": "markdown",
   "id": "367465ff",
   "metadata": {},
   "source": [
    "# cuDF vs Pandas speed comparison "
   ]
  },
  {
   "cell_type": "markdown",
   "id": "f16cbf22",
   "metadata": {},
   "source": [
    "Using popular baby names (6 million rows). \n",
    "\n",
    "*Full baby name data provided by the SSA by state. For the source data see [here](https://www.ssa.gov/oact/babynames/limits.html).*"
   ]
  },
  {
   "cell_type": "markdown",
   "id": "b8b2bb29",
   "metadata": {},
   "source": [
    "---\n",
    "### Download data"
   ]
  },
  {
   "cell_type": "code",
   "execution_count": 34,
   "id": "2c8eaaed",
   "metadata": {
    "tags": []
   },
   "outputs": [],
   "source": [
    "%%capture\n",
    "%%bash\n",
    "wget \"https://www.ssa.gov/oact/babynames/state/namesbystate.zip\"\n",
    "unzip namesbystate.zip -d namesbystate && rm namesbystate.zip\n",
    "cat namesbystate/*.TXT >> namesbystate.csv\n",
    "rm -r namesbystate"
   ]
  },
  {
   "cell_type": "markdown",
   "id": "8ea7dd0d",
   "metadata": {},
   "source": [
    "### Import libraries"
   ]
  },
  {
   "cell_type": "code",
   "execution_count": 35,
   "id": "ed497844",
   "metadata": {},
   "outputs": [],
   "source": [
    "import time\n",
    "import cudf as cd\n",
    "import pandas as pd\n",
    "import cupy as cp\n",
    "cd.DataFrame({'a': [0]}); # initialize cudf "
   ]
  },
  {
   "cell_type": "markdown",
   "id": "b32f4664",
   "metadata": {},
   "source": [
    "----\n",
    "### Read data using Pandas"
   ]
  },
  {
   "cell_type": "code",
   "execution_count": 36,
   "id": "c68c3d66",
   "metadata": {},
   "outputs": [
    {
     "data": {
      "text/plain": [
       "2.5403804779052734"
      ]
     },
     "execution_count": 36,
     "metadata": {},
     "output_type": "execute_result"
    }
   ],
   "source": [
    "startTime = time.time()\n",
    "pdf = pd.read_csv('namesbystate.csv', names=[\"state\", \"sex\", \"year\", \"name\", \"rank\"])\n",
    "time.time() - startTime"
   ]
  },
  {
   "cell_type": "markdown",
   "id": "43e4686c",
   "metadata": {},
   "source": [
    "### Read data using cuDF"
   ]
  },
  {
   "cell_type": "code",
   "execution_count": 38,
   "id": "94397df1",
   "metadata": {},
   "outputs": [
    {
     "data": {
      "text/plain": [
       "0.21918463706970215"
      ]
     },
     "execution_count": 38,
     "metadata": {},
     "output_type": "execute_result"
    }
   ],
   "source": [
    "startTime = time.time()\n",
    "cdf = cd.read_csv('namesbystate.csv', names=[\"state\", \"sex\", \"year\", \"name\", \"rank\"])\n",
    "time.time() - startTime"
   ]
  },
  {
   "cell_type": "markdown",
   "id": "3f182c44",
   "metadata": {},
   "source": [
    "---\n",
    "### Aggregate data with Pandas"
   ]
  },
  {
   "cell_type": "code",
   "execution_count": 39,
   "id": "36848635",
   "metadata": {},
   "outputs": [
    {
     "name": "stdout",
     "output_type": "stream",
     "text": [
      "                  state  rank\n",
      "year name    sex             \n",
      "1910 Aaron   M       13    13\n",
      "     Abbie   F        4     4\n",
      "     Abe     M        4     4\n",
      "     Abner   M        2     2\n",
      "     Abraham M        6     6\n",
      "...                 ...   ...\n",
      "2020 Zymere  M        1     1\n",
      "     Zymir   M        8     8\n",
      "     Zyon    M       14    14\n",
      "     Zyra    F        4     4\n",
      "     Zyrah   F        1     1\n",
      "\n",
      "[642570 rows x 2 columns]\n"
     ]
    },
    {
     "data": {
      "text/plain": [
       "1.847792625427246"
      ]
     },
     "execution_count": 39,
     "metadata": {},
     "output_type": "execute_result"
    }
   ],
   "source": [
    "startTime = time.time()\n",
    "print(pdf.groupby([\"year\", \"name\", \"sex\"]).count())\n",
    "time.time() - startTime"
   ]
  },
  {
   "cell_type": "markdown",
   "id": "5fc37bac",
   "metadata": {},
   "source": [
    "### Aggregate data with cuDF"
   ]
  },
  {
   "cell_type": "code",
   "execution_count": 40,
   "id": "44f6618b",
   "metadata": {},
   "outputs": [
    {
     "name": "stdout",
     "output_type": "stream",
     "text": [
      "                   state  rank\n",
      "year name     sex             \n",
      "1920 Fern     F       32    32\n",
      "1992 Jamila   F       18    18\n",
      "1999 Shannan  F        3     3\n",
      "1994 Tyree    M       21    21\n",
      "1945 Signe    F        1     1\n",
      "...                  ...   ...\n",
      "1999 Destin   M       19    19\n",
      "2012 Precious F       11    11\n",
      "1990 Tyresha  F        1     1\n",
      "     Shilpa   F        1     1\n",
      "1923 Lon      M        6     6\n",
      "\n",
      "[642570 rows x 2 columns]\n"
     ]
    },
    {
     "data": {
      "text/plain": [
       "0.12881231307983398"
      ]
     },
     "execution_count": 40,
     "metadata": {},
     "output_type": "execute_result"
    }
   ],
   "source": [
    "startTime = time.time()\n",
    "print(cdf.groupby([\"year\", \"name\", \"sex\"]).count())\n",
    "time.time() - startTime"
   ]
  },
  {
   "cell_type": "markdown",
   "id": "68776bb8",
   "metadata": {},
   "source": [
    "---\n",
    "### Simple linear model with Pandas"
   ]
  },
  {
   "cell_type": "code",
   "execution_count": 46,
   "id": "921ef41d",
   "metadata": {},
   "outputs": [
    {
     "data": {
      "text/plain": [
       "2.6151363849639893"
      ]
     },
     "execution_count": 46,
     "metadata": {},
     "output_type": "execute_result"
    }
   ],
   "source": [
    "from sklearn.model_selection import train_test_split\n",
    "from sklearn.linear_model import LinearRegression\n",
    "startTime = time.time()\n",
    "X = pdf[['year']]\n",
    "y = pdf['name'].str.len()\n",
    "x_train, x_test, y_train, y_test = train_test_split(X, y, test_size=0.1)\n",
    "lr = LinearRegression(fit_intercept=True, normalize=False)\n",
    "model = lr.fit(x_train, y_train)\n",
    "lr.predict(x_test)\n",
    "time.time() - startTime"
   ]
  },
  {
   "cell_type": "markdown",
   "id": "754ee833",
   "metadata": {},
   "source": [
    "### Simple linear model with cuDF"
   ]
  },
  {
   "cell_type": "code",
   "execution_count": 48,
   "id": "930f61a4",
   "metadata": {},
   "outputs": [
    {
     "data": {
      "text/plain": [
       "0.13907885551452637"
      ]
     },
     "execution_count": 48,
     "metadata": {},
     "output_type": "execute_result"
    }
   ],
   "source": [
    "from cuml import train_test_split\n",
    "from cuml import LinearRegression\n",
    "startTime = time.time()\n",
    "X = cdf[['year']].astype('float32')\n",
    "y = cdf['name'].str.len()\n",
    "x_train, x_test, y_train, y_test = train_test_split(X, y, test_size=0.1)\n",
    "lr = LinearRegression(fit_intercept = True, normalize = False, algorithm='svd')\n",
    "model = lr.fit(x_train, y_train)\n",
    "lr.predict(x_test)\n",
    "time.time() - startTime"
   ]
  },
  {
   "cell_type": "markdown",
   "id": "9eac66b5",
   "metadata": {},
   "source": [
    "### Summary"
   ]
  },
  {
   "cell_type": "markdown",
   "id": "b48f10dd",
   "metadata": {},
   "source": [
    "As of December 2021, there were `6,215,834` records. Aggregating across states resulted in `642,570` records."
   ]
  },
  {
   "cell_type": "markdown",
   "id": "c3c9416f",
   "metadata": {},
   "source": [
    "&nbsp;|Input|Output|Pandas|cuDF|Improvement\n",
    "---|---:|---:|---:|---:|---:\n",
    "Reading|6,215,834|6,215,834|2.5s|0.2s|**12.5x**\n",
    "Aggregating|6,215,834|642,570|1.7s|0.8s|**2.1x**\n",
    "Regression|6,215,834|6,215,834|2.6s|0.1s|**18.6x**"
   ]
  }
 ],
 "metadata": {
  "kernelspec": {
   "display_name": "Python 3",
   "language": "python",
   "name": "python3"
  },
  "language_info": {
   "codemirror_mode": {
    "name": "ipython",
    "version": 3
   },
   "file_extension": ".py",
   "mimetype": "text/x-python",
   "name": "python",
   "nbconvert_exporter": "python",
   "pygments_lexer": "ipython3",
   "version": "3.8.8"
  }
 },
 "nbformat": 4,
 "nbformat_minor": 5
}
